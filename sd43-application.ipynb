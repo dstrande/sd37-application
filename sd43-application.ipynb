{
 "cells": [
  {
   "cell_type": "markdown",
   "id": "a5cab6a8",
   "metadata": {},
   "source": [
    "## Calculate the chance of being born in Canada as a function of the year\n",
    "\n",
    "### First, I'll pull the data from the Worldbank API\n",
    "### Then I'll store the data in a sqlite database\n",
    "### Next, I'll query the database to get the data I need into a pandas dataframe\n",
    "\n",
    "### To calculate the chance of being born in Canada as a function of the year, I will calculate the raw births per year for Canada and the world.\n",
    "\n",
    "### -      births per year = (birth rate / 1000) * 1000 * population\n",
    "\n",
    "### Then I'll divide the number of births in Canada by the number of births in the world to get the chance of being born in Canada as a function of the year.\n"
   ]
  },
  {
   "cell_type": "code",
   "execution_count": 1,
   "id": "77f78f4f",
   "metadata": {},
   "outputs": [],
   "source": [
    "import matplotlib.pylab as plt\n",
    "import pandas as pd\n",
    "import sqlite3\n",
    "import requests\n",
    "import time\n",
    "from datetime import datetime"
   ]
  },
  {
   "cell_type": "code",
   "execution_count": 2,
   "id": "67223366",
   "metadata": {},
   "outputs": [],
   "source": [
    "birth_rate_source = 'https://api.worldbank.org/v2/country/all/indicator/SP.DYN.CBRT.IN'\n",
    "population_source = 'https://api.worldbank.org/v2/country/all/indicator/SP.POP.TOTL'\n",
    "\n",
    "# \"CA\" Canada country code\n",
    "\n",
    "params = {\n",
    "    'format': 'json',\n",
    "    'per_page': 1000,  # Maximum records per page\n",
    "    'page': 1,\n",
    "    'date': '1973:2023',\n",
    "}\n",
    "db_path = \"public_data.db\""
   ]
  },
  {
   "cell_type": "code",
   "execution_count": 3,
   "id": "6444f7c5",
   "metadata": {},
   "outputs": [
    {
     "name": "stdout",
     "output_type": "stream",
     "text": [
      "Database created: public_data.db\n"
     ]
    }
   ],
   "source": [
    "\"\"\"Create SQLite database and tables\"\"\"\n",
    "conn = sqlite3.connect(db_path)\n",
    "cursor = conn.cursor()\n",
    "\n",
    "# Create a general table for World Bank indicators\n",
    "cursor.execute(\"\"\"\n",
    "    CREATE TABLE IF NOT EXISTS world_bank_data (\n",
    "        id INTEGER PRIMARY KEY AUTOINCREMENT,\n",
    "        country_code TEXT,\n",
    "        country_name TEXT,\n",
    "        indicator_code TEXT,\n",
    "        indicator_name TEXT,\n",
    "        year INTEGER,\n",
    "        value REAL,\n",
    "        decimal_places INTEGER,\n",
    "        obs_status TEXT,\n",
    "        unit TEXT,\n",
    "        created_at TIMESTAMP DEFAULT CURRENT_TIMESTAMP\n",
    "    )\n",
    "\"\"\")\n",
    "\n",
    "# Create an index for faster queries\n",
    "cursor.execute(\"\"\"\n",
    "    CREATE INDEX IF NOT EXISTS idx_country_indicator_year \n",
    "    ON world_bank_data(country_code, indicator_code, year)\n",
    "\"\"\")\n",
    "\n",
    "conn.commit()\n",
    "conn.close()\n",
    "print(f\"Database created: {db_path}\")"
   ]
  },
  {
   "cell_type": "code",
   "execution_count": 4,
   "id": "9f401971",
   "metadata": {},
   "outputs": [],
   "source": [
    "def pull_wb_data(source_url):\n",
    "    \"\"\"Pull data from the source worldbank URL.\"\"\"\n",
    "    all_data = []\n",
    "    session = requests.Session()\n",
    "    session.headers.update({\n",
    "        'User-Agent': 'Mozilla/5.0 (compatible; DataFetcher/1.0)'\n",
    "    })\n",
    "\n",
    "    while True:\n",
    "        response = session.get(source_url, params=params, timeout=30)\n",
    "        response.raise_for_status()\n",
    "\n",
    "        data = response.json()\n",
    "        \n",
    "        # World Bank API returns metadata in first element, data in second\n",
    "        if len(data) < 2 or not data[1]:\n",
    "            break\n",
    "        \n",
    "        metadata = data[0]\n",
    "        records = data[1]\n",
    "        \n",
    "        all_data.extend(records)\n",
    "        \n",
    "        # Check if there are more pages\n",
    "        if params['page'] >= metadata.get('pages', 1):\n",
    "            break\n",
    "        \n",
    "        params['page'] += 1\n",
    "        time.sleep(0.5)\n",
    "\n",
    "    print(f\"Successfully fetched {len(all_data)} records\")\n",
    "    params['page'] = 1  # Reset page index\n",
    "\n",
    "    return all_data"
   ]
  },
  {
   "cell_type": "code",
   "execution_count": 5,
   "id": "88aa14a6",
   "metadata": {},
   "outputs": [
    {
     "name": "stdout",
     "output_type": "stream",
     "text": [
      "Successfully fetched 13566 records\n",
      "Successfully fetched 13566 records\n"
     ]
    }
   ],
   "source": [
    "birth_rate_data = pull_wb_data('https://api.worldbank.org/v2/country/all/indicator/SP.DYN.CBRT.IN')\n",
    "population_data = pull_wb_data('https://api.worldbank.org/v2/country/all/indicator/SP.POP.TOTL')"
   ]
  },
  {
   "cell_type": "code",
   "execution_count": 6,
   "id": "0ae03066",
   "metadata": {},
   "outputs": [],
   "source": [
    "def store_data(data, indicator):\n",
    "    \"\"\"Save World Bank data to SQLite database\"\"\"\n",
    "    conn = sqlite3.connect(db_path)\n",
    "    cursor = conn.cursor()\n",
    "\n",
    "    cursor.execute(\"DELETE FROM world_bank_data WHERE indicator_code = ?\", (indicator,))\n",
    "\n",
    "    # Prepare data for insertion\n",
    "    records = []\n",
    "    for item in data:\n",
    "        if item is None:\n",
    "            continue\n",
    "            \n",
    "        record = (\n",
    "            item.get('country', {}).get('id', ''),\n",
    "            item.get('country', {}).get('value', ''),\n",
    "            item.get('indicator', {}).get('id', ''),\n",
    "            item.get('indicator', {}).get('value', ''),\n",
    "            item.get('date'),\n",
    "            item.get('value'),\n",
    "            item.get('decimal'),\n",
    "            item.get('obs_status'),\n",
    "            item.get('unit'),\n",
    "        )\n",
    "        records.append(record)\n",
    "\n",
    "    # Insert data\n",
    "    cursor.executemany(\"\"\"\n",
    "        INSERT INTO world_bank_data \n",
    "        (country_code, country_name, indicator_code, indicator_name, year, value, \n",
    "            decimal_places, obs_status, unit) \n",
    "        VALUES (?, ?, ?, ?, ?, ?, ?, ?, ?)\n",
    "    \"\"\", records)\n",
    "\n",
    "    conn.commit()\n",
    "    conn.close()\n",
    "    print(f\"Saved {len(records)} records to database\")"
   ]
  },
  {
   "cell_type": "code",
   "execution_count": 7,
   "id": "2731be55",
   "metadata": {},
   "outputs": [
    {
     "name": "stdout",
     "output_type": "stream",
     "text": [
      "Saved 13566 records to database\n",
      "Saved 13566 records to database\n"
     ]
    }
   ],
   "source": [
    "store_data(birth_rate_data, \"birthrate\")\n",
    "store_data(population_data, \"population\")"
   ]
  },
  {
   "cell_type": "code",
   "execution_count": 8,
   "id": "1dc4045b",
   "metadata": {},
   "outputs": [],
   "source": [
    "def query_data(query: str):\n",
    "    \"\"\"Execute a query on the database\"\"\"\n",
    "    conn = sqlite3.connect(db_path)\n",
    "    cursor = conn.cursor()\n",
    "    \n",
    "    cursor.execute(query)\n",
    "    results = cursor.fetchall()\n",
    "    results = pd.DataFrame(results)\n",
    "    \n",
    "    conn.close()\n",
    "    return results"
   ]
  },
  {
   "cell_type": "code",
   "execution_count": 9,
   "id": "8dac8aed",
   "metadata": {},
   "outputs": [],
   "source": [
    "# SP.POP.TOTL = population\n",
    "# SP.DYN.CBRT.IN = birthrate"
   ]
  },
  {
   "cell_type": "code",
   "execution_count": 13,
   "id": "49af1c90",
   "metadata": {},
   "outputs": [
    {
     "name": "stdout",
     "output_type": "stream",
     "text": [
      "          0   1          2\n",
      "0      2023  ZH  32.954912\n",
      "1      2022  ZH  33.320433\n",
      "2      2021  ZH  33.681336\n",
      "3      2020  ZH  34.010470\n",
      "4      2019  ZH  34.335881\n",
      "...     ...  ..        ...\n",
      "13561  1977  ZW  46.510000\n",
      "13562  1976  ZW  46.524000\n",
      "13563  1975  ZW  46.623000\n",
      "13564  1974  ZW  46.395000\n",
      "13565  1973  ZW  46.384000\n",
      "\n",
      "[13566 rows x 3 columns]\n"
     ]
    }
   ],
   "source": [
    "query = \"\"\"\n",
    "        SELECT year, country_code, value\n",
    "        FROM world_bank_data\n",
    "        WHERE indicator_code='SP.DYN.CBRT.IN'\n",
    "    \"\"\"\n",
    "birth_rate_data = query_data(query=query)\n",
    "print(birth_rate_data)  # Quick test"
   ]
  },
  {
   "cell_type": "code",
   "execution_count": 14,
   "id": "8e10df92",
   "metadata": {},
   "outputs": [
    {
     "name": "stdout",
     "output_type": "stream",
     "text": [
      "          0   1            2\n",
      "0      2023  ZH  750503764.0\n",
      "1      2022  ZH  731821393.0\n",
      "2      2021  ZH  713090928.0\n",
      "3      2020  ZH  694446100.0\n",
      "4      2019  ZH  675950189.0\n",
      "...     ...  ..          ...\n",
      "13561  1977  ZW    6449512.0\n",
      "13562  1976  ZW    6287105.0\n",
      "13563  1975  ZW    6098658.0\n",
      "13564  1974  ZW    5908328.0\n",
      "13565  1973  ZW    5720404.0\n",
      "\n",
      "[13566 rows x 3 columns]\n"
     ]
    }
   ],
   "source": [
    "query = \"\"\"\n",
    "        SELECT year, country_code, value\n",
    "        FROM world_bank_data\n",
    "        WHERE indicator_code='SP.POP.TOTL'\n",
    "    \"\"\"\n",
    "population_data = query_data(query=query)\n",
    "print(population_data)  # Quick test"
   ]
  },
  {
   "cell_type": "code",
   "execution_count": 20,
   "id": "699c7998",
   "metadata": {},
   "outputs": [
    {
     "data": {
      "text/html": [
       "<div>\n",
       "<style scoped>\n",
       "    .dataframe tbody tr th:only-of-type {\n",
       "        vertical-align: middle;\n",
       "    }\n",
       "\n",
       "    .dataframe tbody tr th {\n",
       "        vertical-align: top;\n",
       "    }\n",
       "\n",
       "    .dataframe thead th {\n",
       "        text-align: right;\n",
       "    }\n",
       "</style>\n",
       "<table border=\"1\" class=\"dataframe\">\n",
       "  <thead>\n",
       "    <tr style=\"text-align: right;\">\n",
       "      <th></th>\n",
       "      <th>Year</th>\n",
       "      <th>Country Code</th>\n",
       "      <th>Population</th>\n",
       "      <th>Birth rate / 1000</th>\n",
       "    </tr>\n",
       "  </thead>\n",
       "  <tbody>\n",
       "    <tr>\n",
       "      <th>0</th>\n",
       "      <td>2023</td>\n",
       "      <td>ZH</td>\n",
       "      <td>750503764.0</td>\n",
       "      <td>32.954912</td>\n",
       "    </tr>\n",
       "    <tr>\n",
       "      <th>1</th>\n",
       "      <td>2022</td>\n",
       "      <td>ZH</td>\n",
       "      <td>731821393.0</td>\n",
       "      <td>33.320433</td>\n",
       "    </tr>\n",
       "    <tr>\n",
       "      <th>2</th>\n",
       "      <td>2021</td>\n",
       "      <td>ZH</td>\n",
       "      <td>713090928.0</td>\n",
       "      <td>33.681336</td>\n",
       "    </tr>\n",
       "    <tr>\n",
       "      <th>3</th>\n",
       "      <td>2020</td>\n",
       "      <td>ZH</td>\n",
       "      <td>694446100.0</td>\n",
       "      <td>34.010470</td>\n",
       "    </tr>\n",
       "    <tr>\n",
       "      <th>4</th>\n",
       "      <td>2019</td>\n",
       "      <td>ZH</td>\n",
       "      <td>675950189.0</td>\n",
       "      <td>34.335881</td>\n",
       "    </tr>\n",
       "    <tr>\n",
       "      <th>...</th>\n",
       "      <td>...</td>\n",
       "      <td>...</td>\n",
       "      <td>...</td>\n",
       "      <td>...</td>\n",
       "    </tr>\n",
       "    <tr>\n",
       "      <th>13561</th>\n",
       "      <td>1977</td>\n",
       "      <td>ZW</td>\n",
       "      <td>6449512.0</td>\n",
       "      <td>46.510000</td>\n",
       "    </tr>\n",
       "    <tr>\n",
       "      <th>13562</th>\n",
       "      <td>1976</td>\n",
       "      <td>ZW</td>\n",
       "      <td>6287105.0</td>\n",
       "      <td>46.524000</td>\n",
       "    </tr>\n",
       "    <tr>\n",
       "      <th>13563</th>\n",
       "      <td>1975</td>\n",
       "      <td>ZW</td>\n",
       "      <td>6098658.0</td>\n",
       "      <td>46.623000</td>\n",
       "    </tr>\n",
       "    <tr>\n",
       "      <th>13564</th>\n",
       "      <td>1974</td>\n",
       "      <td>ZW</td>\n",
       "      <td>5908328.0</td>\n",
       "      <td>46.395000</td>\n",
       "    </tr>\n",
       "    <tr>\n",
       "      <th>13565</th>\n",
       "      <td>1973</td>\n",
       "      <td>ZW</td>\n",
       "      <td>5720404.0</td>\n",
       "      <td>46.384000</td>\n",
       "    </tr>\n",
       "  </tbody>\n",
       "</table>\n",
       "<p>13566 rows × 4 columns</p>\n",
       "</div>"
      ],
      "text/plain": [
       "       Year Country Code   Population  Birth rate / 1000\n",
       "0      2023           ZH  750503764.0          32.954912\n",
       "1      2022           ZH  731821393.0          33.320433\n",
       "2      2021           ZH  713090928.0          33.681336\n",
       "3      2020           ZH  694446100.0          34.010470\n",
       "4      2019           ZH  675950189.0          34.335881\n",
       "...     ...          ...          ...                ...\n",
       "13561  1977           ZW    6449512.0          46.510000\n",
       "13562  1976           ZW    6287105.0          46.524000\n",
       "13563  1975           ZW    6098658.0          46.623000\n",
       "13564  1974           ZW    5908328.0          46.395000\n",
       "13565  1973           ZW    5720404.0          46.384000\n",
       "\n",
       "[13566 rows x 4 columns]"
      ]
     },
     "execution_count": 20,
     "metadata": {},
     "output_type": "execute_result"
    }
   ],
   "source": [
    "combined_dataframe = pd.merge(left=population_data, right=birth_rate_data, how='left', left_on=[0, 1], right_on=[0, 1])\n",
    "combined_dataframe = combined_dataframe.rename(columns={0: \"Year\", 1:\"Country Code\", \"2_x\": \"Population\", \"2_y\": \"Birth rate / 1000\",})\n",
    "combined_dataframe"
   ]
  },
  {
   "cell_type": "code",
   "execution_count": null,
   "id": "f135cb51",
   "metadata": {},
   "outputs": [],
   "source": []
  }
 ],
 "metadata": {
  "kernelspec": {
   "display_name": "Python 3",
   "language": "python",
   "name": "python3"
  },
  "language_info": {
   "codemirror_mode": {
    "name": "ipython",
    "version": 3
   },
   "file_extension": ".py",
   "mimetype": "text/x-python",
   "name": "python",
   "nbconvert_exporter": "python",
   "pygments_lexer": "ipython3",
   "version": "3.11.5"
  }
 },
 "nbformat": 4,
 "nbformat_minor": 5
}
